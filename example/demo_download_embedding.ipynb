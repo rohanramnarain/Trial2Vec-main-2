{
 "cells": [
  {
   "cell_type": "code",
   "execution_count": 1,
   "id": "13c180fd",
   "metadata": {},
   "outputs": [
    {
     "name": "stderr",
     "output_type": "stream",
     "text": [
      "Some weights of the model checkpoint at emilyalsentzer/Bio_ClinicalBERT were not used when initializing BertModel: ['cls.seq_relationship.bias', 'cls.predictions.transform.LayerNorm.weight', 'cls.predictions.transform.dense.weight', 'cls.predictions.decoder.weight', 'cls.seq_relationship.weight', 'cls.predictions.bias', 'cls.predictions.transform.dense.bias', 'cls.predictions.transform.LayerNorm.bias']\n",
      "- This IS expected if you are initializing BertModel from the checkpoint of a model trained on another task or with another architecture (e.g. initializing a BertForSequenceClassification model from a BertForPreTraining model).\n",
      "- This IS NOT expected if you are initializing BertModel from the checkpoint of a model that you expect to be exactly identical (initializing a BertForSequenceClassification model from a BertForSequenceClassification model).\n"
     ]
    },
    {
     "name": "stdout",
     "output_type": "stream",
     "text": [
      "Load pretrained Trial2Vec model from ./trial_search/pretrained_trial2vec\n",
      "load predictor config file from ./trial_search/pretrained_trial2vec/model_config.json\n"
     ]
    }
   ],
   "source": [
    "from trial2vec import download_embedding\n",
    "trialembs = download_embedding()"
   ]
  },
  {
   "cell_type": "code",
   "execution_count": 2,
   "id": "de2dd31f",
   "metadata": {},
   "outputs": [
    {
     "data": {
      "text/plain": [
       "428502"
      ]
     },
     "execution_count": 2,
     "metadata": {},
     "output_type": "execute_result"
    }
   ],
   "source": [
    "# how many pretrained embeddings of trials we have\n",
    "len(trialembs)"
   ]
  },
  {
   "cell_type": "code",
   "execution_count": 3,
   "id": "3086a9cb",
   "metadata": {},
   "outputs": [
    {
     "name": "stdout",
     "output_type": "stream",
     "text": [
      "knn model is not built, building now...\n"
     ]
    },
    {
     "data": {
      "text/plain": [
       "array(['NCT04237636', 'NCT03882658', 'NCT03798067', 'NCT02054546',\n",
       "       'NCT04130347'], dtype='<U11')"
      ]
     },
     "execution_count": 3,
     "metadata": {},
     "output_type": "execute_result"
    }
   ],
   "source": [
    "# search similar trials\n",
    "trialembs.search_topk('NCT04237636', k=5)"
   ]
  },
  {
   "cell_type": "code",
   "execution_count": 4,
   "id": "77992afc",
   "metadata": {},
   "outputs": [
    {
     "data": {
      "text/plain": [
       "array([['NCT04237636', 'NCT03882658', 'NCT03798067', 'NCT02054546',\n",
       "        'NCT04130347'],\n",
       "       ['NCT04237441', 'NCT02869581', 'NCT04395898', 'NCT05141656',\n",
       "        'NCT05138302']], dtype='<U11')"
      ]
     },
     "execution_count": 4,
     "metadata": {},
     "output_type": "execute_result"
    }
   ],
   "source": [
    "# search similar trials\n",
    "trialembs.search_topk(['NCT04237636', 'NCT04237441'], k=5)"
   ]
  },
  {
   "cell_type": "code",
   "execution_count": 5,
   "id": "8b42496a",
   "metadata": {},
   "outputs": [
    {
     "data": {
      "text/plain": [
       "(2, 128)"
      ]
     },
     "execution_count": 5,
     "metadata": {},
     "output_type": "execute_result"
    }
   ],
   "source": [
    "# encode trials\n",
    "embs = trialembs[['NCT04237636', 'NCT04237441']]\n",
    "embs.shape"
   ]
  },
  {
   "cell_type": "code",
   "execution_count": null,
   "id": "1b6568bd",
   "metadata": {},
   "outputs": [],
   "source": []
  },
  {
   "cell_type": "code",
   "execution_count": null,
   "id": "a0ea2810",
   "metadata": {},
   "outputs": [],
   "source": []
  }
 ],
 "metadata": {
  "kernelspec": {
   "display_name": "Python 3 (ipykernel)",
   "language": "python",
   "name": "python3"
  },
  "language_info": {
   "codemirror_mode": {
    "name": "ipython",
    "version": 3
   },
   "file_extension": ".py",
   "mimetype": "text/x-python",
   "name": "python",
   "nbconvert_exporter": "python",
   "pygments_lexer": "ipython3",
   "version": "3.7.15"
  }
 },
 "nbformat": 4,
 "nbformat_minor": 5
}
